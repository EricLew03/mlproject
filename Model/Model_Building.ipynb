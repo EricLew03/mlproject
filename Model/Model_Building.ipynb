{
 "cells": [
  {
   "cell_type": "markdown",
   "id": "04c40c77-f4b2-45f0-887c-7219c66a8635",
   "metadata": {},
   "source": [
    "## Import libraries"
   ]
  },
  {
   "cell_type": "code",
   "execution_count": 6,
   "id": "a3fc38dd-ffdf-4b9a-bf2f-720552b5e9f9",
   "metadata": {
    "tags": []
   },
   "outputs": [],
   "source": [
    "import pandas as pd\n",
    "import numpy as np\n",
    "from matplotlib import pyplot as plt\n",
    "import matplotlib\n",
    "import seaborn as sns\n",
    "\n",
    "%matplotlib inline\n",
    "matplotlib.rcParams[\"figure.figsize\"] = (20,10)"
   ]
  },
  {
   "cell_type": "code",
   "execution_count": 7,
   "id": "519fae4e-11f5-4a1f-916f-e775c5f902f5",
   "metadata": {
    "tags": []
   },
   "outputs": [],
   "source": [
    "from sklearn.preprocessing import OneHotEncoder, LabelEncoder\n",
    "from sklearn.pipeline import Pipeline\n",
    "from sklearn.preprocessing import StandardScaler\n",
    "from sklearn.base import BaseEstimator, TransformerMixin\n",
    "from sklearn.pipeline import FeatureUnion\n",
    "from sklearn.impute import SimpleImputer\n",
    "from sklearn.compose import ColumnTransformer\n",
    "from sklearn.model_selection import train_test_split"
   ]
  },
  {
   "cell_type": "markdown",
   "id": "a6053d89-f377-4cef-8a5e-ee577a566eed",
   "metadata": {
    "tags": []
   },
   "source": [
    "## Reading and Cleaning the Data\n"
   ]
  },
  {
   "cell_type": "code",
   "execution_count": 9,
   "id": "b5a79547-2af1-4dad-8c08-3aed0d26009a",
   "metadata": {
    "tags": []
   },
   "outputs": [
    {
     "data": {
      "text/html": [
       "<div>\n",
       "<style scoped>\n",
       "    .dataframe tbody tr th:only-of-type {\n",
       "        vertical-align: middle;\n",
       "    }\n",
       "\n",
       "    .dataframe tbody tr th {\n",
       "        vertical-align: top;\n",
       "    }\n",
       "\n",
       "    .dataframe thead th {\n",
       "        text-align: right;\n",
       "    }\n",
       "</style>\n",
       "<table border=\"1\" class=\"dataframe\">\n",
       "  <thead>\n",
       "    <tr style=\"text-align: right;\">\n",
       "      <th></th>\n",
       "      <th>Price</th>\n",
       "      <th>Bedrooms</th>\n",
       "      <th>Bathrooms</th>\n",
       "      <th>SqFt</th>\n",
       "      <th>City</th>\n",
       "      <th>Province</th>\n",
       "      <th>Year_Built</th>\n",
       "      <th>Type</th>\n",
       "      <th>Garage</th>\n",
       "      <th>Lot_Area</th>\n",
       "    </tr>\n",
       "  </thead>\n",
       "  <tbody>\n",
       "    <tr>\n",
       "      <th>0</th>\n",
       "      <td>873630</td>\n",
       "      <td>5</td>\n",
       "      <td>2</td>\n",
       "      <td>1010</td>\n",
       "      <td>Montreal</td>\n",
       "      <td>BC</td>\n",
       "      <td>1960</td>\n",
       "      <td>Condo</td>\n",
       "      <td>1</td>\n",
       "      <td>7919</td>\n",
       "    </tr>\n",
       "    <tr>\n",
       "      <th>1</th>\n",
       "      <td>377869</td>\n",
       "      <td>2</td>\n",
       "      <td>2</td>\n",
       "      <td>3591</td>\n",
       "      <td>Toronto</td>\n",
       "      <td>ON</td>\n",
       "      <td>1958</td>\n",
       "      <td>House</td>\n",
       "      <td>1</td>\n",
       "      <td>7304</td>\n",
       "    </tr>\n",
       "    <tr>\n",
       "      <th>2</th>\n",
       "      <td>128030</td>\n",
       "      <td>4</td>\n",
       "      <td>1</td>\n",
       "      <td>3823</td>\n",
       "      <td>Montreal</td>\n",
       "      <td>ON</td>\n",
       "      <td>2002</td>\n",
       "      <td>House</td>\n",
       "      <td>0</td>\n",
       "      <td>4548</td>\n",
       "    </tr>\n",
       "    <tr>\n",
       "      <th>3</th>\n",
       "      <td>117730</td>\n",
       "      <td>3</td>\n",
       "      <td>2</td>\n",
       "      <td>2848</td>\n",
       "      <td>Montreal</td>\n",
       "      <td>QC</td>\n",
       "      <td>1975</td>\n",
       "      <td>Apartment</td>\n",
       "      <td>1</td>\n",
       "      <td>3374</td>\n",
       "    </tr>\n",
       "    <tr>\n",
       "      <th>4</th>\n",
       "      <td>292476</td>\n",
       "      <td>4</td>\n",
       "      <td>1</td>\n",
       "      <td>3659</td>\n",
       "      <td>Vancouver</td>\n",
       "      <td>QC</td>\n",
       "      <td>2018</td>\n",
       "      <td>Condo</td>\n",
       "      <td>1</td>\n",
       "      <td>1281</td>\n",
       "    </tr>\n",
       "  </tbody>\n",
       "</table>\n",
       "</div>"
      ],
      "text/plain": [
       "    Price  Bedrooms  Bathrooms  SqFt       City Province  Year_Built  \\\n",
       "0  873630         5          2  1010   Montreal       BC        1960   \n",
       "1  377869         2          2  3591    Toronto       ON        1958   \n",
       "2  128030         4          1  3823   Montreal       ON        2002   \n",
       "3  117730         3          2  2848   Montreal       QC        1975   \n",
       "4  292476         4          1  3659  Vancouver       QC        2018   \n",
       "\n",
       "        Type  Garage  Lot_Area  \n",
       "0      Condo       1      7919  \n",
       "1      House       1      7304  \n",
       "2      House       0      4548  \n",
       "3  Apartment       1      3374  \n",
       "4      Condo       1      1281  "
      ]
     },
     "execution_count": 9,
     "metadata": {},
     "output_type": "execute_result"
    }
   ],
   "source": [
    "housing = pd.read_csv(\"ca_real_estate.csv\")\n",
    "housing.head()"
   ]
  },
  {
   "cell_type": "code",
   "execution_count": 10,
   "id": "f76576e6-d640-4086-aa7e-9e3b5efbf383",
   "metadata": {
    "tags": []
   },
   "outputs": [
    {
     "name": "stdout",
     "output_type": "stream",
     "text": [
      "<class 'pandas.core.frame.DataFrame'>\n",
      "RangeIndex: 5000 entries, 0 to 4999\n",
      "Data columns (total 10 columns):\n",
      " #   Column      Non-Null Count  Dtype \n",
      "---  ------      --------------  ----- \n",
      " 0   Price       5000 non-null   int64 \n",
      " 1   Bedrooms    5000 non-null   int64 \n",
      " 2   Bathrooms   5000 non-null   int64 \n",
      " 3   SqFt        5000 non-null   int64 \n",
      " 4   City        5000 non-null   object\n",
      " 5   Province    5000 non-null   object\n",
      " 6   Year_Built  5000 non-null   int64 \n",
      " 7   Type        5000 non-null   object\n",
      " 8   Garage      5000 non-null   int64 \n",
      " 9   Lot_Area    5000 non-null   int64 \n",
      "dtypes: int64(7), object(3)\n",
      "memory usage: 390.8+ KB\n"
     ]
    }
   ],
   "source": [
    "#checking the features in the dataset\n",
    "\n",
    "housing.info()"
   ]
  },
  {
   "cell_type": "markdown",
   "id": "4c18d238-03d9-4e58-b47b-4a24753e64c2",
   "metadata": {},
   "source": [
    "##### There are 5000 and 10 columns. There are no missing values in the columns"
   ]
  },
  {
   "cell_type": "markdown",
   "id": "3d4d05eb-cc69-413d-bdbe-3f9baca04416",
   "metadata": {},
   "source": [
    "### Univariate Analysis"
   ]
  },
  {
   "cell_type": "code",
   "execution_count": 13,
   "id": "cc0eeead-f6dd-402c-a02d-5ff48346e47a",
   "metadata": {
    "tags": []
   },
   "outputs": [
    {
     "data": {
      "text/plain": [
       "<Axes: xlabel='City', ylabel='count'>"
      ]
     },
     "execution_count": 13,
     "metadata": {},
     "output_type": "execute_result"
    },
    {
     "data": {
      "image/png": "[encoded data removed]",
      "text/plain": [
       "<Figure size 2000x1000 with 1 Axes>"
      ]
     },
     "metadata": {},
     "output_type": "display_data"
    }
   ],
   "source": [
    "sns.countplot(x = 'City', data = housing)"
   ]
  },
  {
   "cell_type": "markdown",
   "id": "1f5ff784-5f7a-429e-b34c-c81ddc6dbff0",
   "metadata": {},
   "source": [
    "##### The number from each city is very balanced"
   ]
  },
  {
   "cell_type": "code",
   "execution_count": 15,
   "id": "a91d918c-c7e6-436f-8572-1033abb324dd",
   "metadata": {
    "tags": []
   },
   "outputs": [
    {
     "data": {
      "text/plain": [
       "Bedrooms\n",
       "5    1028\n",
       "4    1024\n",
       "1     989\n",
       "3     983\n",
       "2     976\n",
       "Name: count, dtype: int64"
      ]
     },
     "execution_count": 15,
     "metadata": {},
     "output_type": "execute_result"
    }
   ],
   "source": [
    "housing.Bedrooms.value_counts()"
   ]
  },
  {
   "cell_type": "markdown",
   "id": "a32b828a-13b7-435f-9bb6-cab3436a3432",
   "metadata": {},
   "source": [
    "##### This number is very balanced as well"
   ]
  },
  {
   "cell_type": "code",
   "execution_count": 17,
   "id": "4f468c00-63b9-4b50-a229-e0f6b885de45",
   "metadata": {
    "tags": []
   },
   "outputs": [
    {
     "data": {
      "text/plain": [
       "Year_Built\n",
       "1980    85\n",
       "2010    83\n",
       "1979    83\n",
       "1981    82\n",
       "1975    81\n",
       "        ..\n",
       "2001    56\n",
       "1974    56\n",
       "1998    55\n",
       "2007    51\n",
       "1965    49\n",
       "Name: count, Length: 73, dtype: int64"
      ]
     },
     "execution_count": 17,
     "metadata": {},
     "output_type": "execute_result"
    }
   ],
   "source": [
    "housing.Year_Built.value_counts()"
   ]
  },
  {
   "cell_type": "code",
   "execution_count": 18,
   "id": "51348663-8634-44ac-800f-7812dacba694",
   "metadata": {
    "tags": []
   },
   "outputs": [
    {
     "data": {
      "text/plain": [
       "Type\n",
       "Condo        1698\n",
       "Apartment    1664\n",
       "House        1638\n",
       "Name: count, dtype: int64"
      ]
     },
     "execution_count": 18,
     "metadata": {},
     "output_type": "execute_result"
    }
   ],
   "source": [
    "housing.Type.value_counts()"
   ]
  },
  {
   "cell_type": "markdown",
   "id": "b44343a4-262f-4777-ab16-7983e5403bbe",
   "metadata": {},
   "source": [
    "##### We could change this into how old are the houses to make it easier to understand"
   ]
  },
  {
   "cell_type": "markdown",
   "id": "29fc86cf-2bc3-43d3-8511-9ecf0f63bf14",
   "metadata": {},
   "source": [
    "### We can dorp Garage, Lot Area, Province and Bathrooms to make the regression model simpler"
   ]
  },
  {
   "cell_type": "code",
   "execution_count": 29,
   "id": "c383882d-5621-43fd-8a93-6a9ef2a94ec2",
   "metadata": {
    "tags": []
   },
   "outputs": [
    {
     "data": {
      "text/html": [
       "<div>\n",
       "<style scoped>\n",
       "    .dataframe tbody tr th:only-of-type {\n",
       "        vertical-align: middle;\n",
       "    }\n",
       "\n",
       "    .dataframe tbody tr th {\n",
       "        vertical-align: top;\n",
       "    }\n",
       "\n",
       "    .dataframe thead th {\n",
       "        text-align: right;\n",
       "    }\n",
       "</style>\n",
       "<table border=\"1\" class=\"dataframe\">\n",
       "  <thead>\n",
       "    <tr style=\"text-align: right;\">\n",
       "      <th></th>\n",
       "      <th>Price</th>\n",
       "      <th>Bedrooms</th>\n",
       "      <th>SqFt</th>\n",
       "      <th>City</th>\n",
       "      <th>Year_Built</th>\n",
       "      <th>Type</th>\n",
       "    </tr>\n",
       "  </thead>\n",
       "  <tbody>\n",
       "    <tr>\n",
       "      <th>0</th>\n",
       "      <td>873630</td>\n",
       "      <td>5</td>\n",
       "      <td>1010</td>\n",
       "      <td>Montreal</td>\n",
       "      <td>1960</td>\n",
       "      <td>Condo</td>\n",
       "    </tr>\n",
       "    <tr>\n",
       "      <th>1</th>\n",
       "      <td>377869</td>\n",
       "      <td>2</td>\n",
       "      <td>3591</td>\n",
       "      <td>Toronto</td>\n",
       "      <td>1958</td>\n",
       "      <td>House</td>\n",
       "    </tr>\n",
       "    <tr>\n",
       "      <th>2</th>\n",
       "      <td>128030</td>\n",
       "      <td>4</td>\n",
       "      <td>3823</td>\n",
       "      <td>Montreal</td>\n",
       "      <td>2002</td>\n",
       "      <td>House</td>\n",
       "    </tr>\n",
       "    <tr>\n",
       "      <th>3</th>\n",
       "      <td>117730</td>\n",
       "      <td>3</td>\n",
       "      <td>2848</td>\n",
       "      <td>Montreal</td>\n",
       "      <td>1975</td>\n",
       "      <td>Apartment</td>\n",
       "    </tr>\n",
       "    <tr>\n",
       "      <th>4</th>\n",
       "      <td>292476</td>\n",
       "      <td>4</td>\n",
       "      <td>3659</td>\n",
       "      <td>Vancouver</td>\n",
       "      <td>2018</td>\n",
       "      <td>Condo</td>\n",
       "    </tr>\n",
       "  </tbody>\n",
       "</table>\n",
       "</div>"
      ],
      "text/plain": [
       "    Price  Bedrooms  SqFt       City  Year_Built       Type\n",
       "0  873630         5  1010   Montreal        1960      Condo\n",
       "1  377869         2  3591    Toronto        1958      House\n",
       "2  128030         4  3823   Montreal        2002      House\n",
       "3  117730         3  2848   Montreal        1975  Apartment\n",
       "4  292476         4  3659  Vancouver        2018      Condo"
      ]
     },
     "execution_count": 29,
     "metadata": {},
     "output_type": "execute_result"
    }
   ],
   "source": [
    "housing2 = housing.drop(['Garage', 'Lot_Area', 'Province', 'Bathrooms'], axis = 'columns')\n",
    "housing2.head()"
   ]
  },
  {
   "cell_type": "markdown",
   "id": "60908fa0-3182-4554-b7c9-6c64cf278615",
   "metadata": {},
   "source": [
    "#### Changing Year_built to age\n"
   ]
  },
  {
   "cell_type": "code",
   "execution_count": 32,
   "id": "32a2d8b6-a2fc-4317-a86b-c9f1cca3936f",
   "metadata": {
    "tags": []
   },
   "outputs": [],
   "source": [
    "from datetime import datetime\n",
    "\n",
    "current_year = datetime.now().year\n",
    "housing2[\"Age\"] = current_year - housing2['Year_Built']"
   ]
  },
  {
   "cell_type": "code",
   "execution_count": 34,
   "id": "ab568ce2-463a-4d36-aa9c-35a3477244b4",
   "metadata": {
    "tags": []
   },
   "outputs": [
    {
     "data": {
      "text/html": [
       "<div>\n",
       "<style scoped>\n",
       "    .dataframe tbody tr th:only-of-type {\n",
       "        vertical-align: middle;\n",
       "    }\n",
       "\n",
       "    .dataframe tbody tr th {\n",
       "        vertical-align: top;\n",
       "    }\n",
       "\n",
       "    .dataframe thead th {\n",
       "        text-align: right;\n",
       "    }\n",
       "</style>\n",
       "<table border=\"1\" class=\"dataframe\">\n",
       "  <thead>\n",
       "    <tr style=\"text-align: right;\">\n",
       "      <th></th>\n",
       "      <th>Price</th>\n",
       "      <th>Bedrooms</th>\n",
       "      <th>SqFt</th>\n",
       "      <th>City</th>\n",
       "      <th>Type</th>\n",
       "      <th>Age</th>\n",
       "    </tr>\n",
       "  </thead>\n",
       "  <tbody>\n",
       "    <tr>\n",
       "      <th>0</th>\n",
       "      <td>873630</td>\n",
       "      <td>5</td>\n",
       "      <td>1010</td>\n",
       "      <td>Montreal</td>\n",
       "      <td>Condo</td>\n",
       "      <td>64</td>\n",
       "    </tr>\n",
       "    <tr>\n",
       "      <th>1</th>\n",
       "      <td>377869</td>\n",
       "      <td>2</td>\n",
       "      <td>3591</td>\n",
       "      <td>Toronto</td>\n",
       "      <td>House</td>\n",
       "      <td>66</td>\n",
       "    </tr>\n",
       "    <tr>\n",
       "      <th>2</th>\n",
       "      <td>128030</td>\n",
       "      <td>4</td>\n",
       "      <td>3823</td>\n",
       "      <td>Montreal</td>\n",
       "      <td>House</td>\n",
       "      <td>22</td>\n",
       "    </tr>\n",
       "    <tr>\n",
       "      <th>3</th>\n",
       "      <td>117730</td>\n",
       "      <td>3</td>\n",
       "      <td>2848</td>\n",
       "      <td>Montreal</td>\n",
       "      <td>Apartment</td>\n",
       "      <td>49</td>\n",
       "    </tr>\n",
       "    <tr>\n",
       "      <th>4</th>\n",
       "      <td>292476</td>\n",
       "      <td>4</td>\n",
       "      <td>3659</td>\n",
       "      <td>Vancouver</td>\n",
       "      <td>Condo</td>\n",
       "      <td>6</td>\n",
       "    </tr>\n",
       "  </tbody>\n",
       "</table>\n",
       "</div>"
      ],
      "text/plain": [
       "    Price  Bedrooms  SqFt       City       Type  Age\n",
       "0  873630         5  1010   Montreal      Condo   64\n",
       "1  377869         2  3591    Toronto      House   66\n",
       "2  128030         4  3823   Montreal      House   22\n",
       "3  117730         3  2848   Montreal  Apartment   49\n",
       "4  292476         4  3659  Vancouver      Condo    6"
      ]
     },
     "execution_count": 34,
     "metadata": {},
     "output_type": "execute_result"
    }
   ],
   "source": [
    "housing3 = housing2.drop('Year_Built', axis= 'columns')\n",
    "housing3.head()"
   ]
  },
  {
   "cell_type": "code",
   "execution_count": 36,
   "id": "c0e35897-1ea4-4fe4-a330-aa6613e30e8c",
   "metadata": {
    "tags": []
   },
   "outputs": [
    {
     "data": {
      "text/html": [
       "<div>\n",
       "<style scoped>\n",
       "    .dataframe tbody tr th:only-of-type {\n",
       "        vertical-align: middle;\n",
       "    }\n",
       "\n",
       "    .dataframe tbody tr th {\n",
       "        vertical-align: top;\n",
       "    }\n",
       "\n",
       "    .dataframe thead th {\n",
       "        text-align: right;\n",
       "    }\n",
       "</style>\n",
       "<table border=\"1\" class=\"dataframe\">\n",
       "  <thead>\n",
       "    <tr style=\"text-align: right;\">\n",
       "      <th></th>\n",
       "      <th>Price</th>\n",
       "      <th>Bedrooms</th>\n",
       "      <th>SqFt</th>\n",
       "      <th>Age</th>\n",
       "    </tr>\n",
       "  </thead>\n",
       "  <tbody>\n",
       "    <tr>\n",
       "      <th>count</th>\n",
       "      <td>5000.000000</td>\n",
       "      <td>5000.000000</td>\n",
       "      <td>5000.000000</td>\n",
       "      <td>5000.000000</td>\n",
       "    </tr>\n",
       "    <tr>\n",
       "      <th>mean</th>\n",
       "      <td>548136.640000</td>\n",
       "      <td>3.025200</td>\n",
       "      <td>2383.556800</td>\n",
       "      <td>38.314800</td>\n",
       "    </tr>\n",
       "    <tr>\n",
       "      <th>std</th>\n",
       "      <td>259134.352521</td>\n",
       "      <td>1.418932</td>\n",
       "      <td>925.070872</td>\n",
       "      <td>20.954893</td>\n",
       "    </tr>\n",
       "    <tr>\n",
       "      <th>min</th>\n",
       "      <td>100268.000000</td>\n",
       "      <td>1.000000</td>\n",
       "      <td>800.000000</td>\n",
       "      <td>2.000000</td>\n",
       "    </tr>\n",
       "    <tr>\n",
       "      <th>25%</th>\n",
       "      <td>321943.000000</td>\n",
       "      <td>2.000000</td>\n",
       "      <td>1572.500000</td>\n",
       "      <td>20.000000</td>\n",
       "    </tr>\n",
       "    <tr>\n",
       "      <th>50%</th>\n",
       "      <td>544006.000000</td>\n",
       "      <td>3.000000</td>\n",
       "      <td>2381.000000</td>\n",
       "      <td>39.000000</td>\n",
       "    </tr>\n",
       "    <tr>\n",
       "      <th>75%</th>\n",
       "      <td>773302.250000</td>\n",
       "      <td>4.000000</td>\n",
       "      <td>3187.000000</td>\n",
       "      <td>56.000000</td>\n",
       "    </tr>\n",
       "    <tr>\n",
       "      <th>max</th>\n",
       "      <td>999361.000000</td>\n",
       "      <td>5.000000</td>\n",
       "      <td>3999.000000</td>\n",
       "      <td>74.000000</td>\n",
       "    </tr>\n",
       "  </tbody>\n",
       "</table>\n",
       "</div>"
      ],
      "text/plain": [
       "               Price     Bedrooms         SqFt          Age\n",
       "count    5000.000000  5000.000000  5000.000000  5000.000000\n",
       "mean   548136.640000     3.025200  2383.556800    38.314800\n",
       "std    259134.352521     1.418932   925.070872    20.954893\n",
       "min    100268.000000     1.000000   800.000000     2.000000\n",
       "25%    321943.000000     2.000000  1572.500000    20.000000\n",
       "50%    544006.000000     3.000000  2381.000000    39.000000\n",
       "75%    773302.250000     4.000000  3187.000000    56.000000\n",
       "max    999361.000000     5.000000  3999.000000    74.000000"
      ]
     },
     "execution_count": 36,
     "metadata": {},
     "output_type": "execute_result"
    }
   ],
   "source": [
    "housing3.describe()"
   ]
  },
  {
   "cell_type": "markdown",
   "id": "ff7f5eb6-86aa-42ca-bef6-7662840b2298",
   "metadata": {},
   "source": [
    "### Outlier Analysis"
   ]
  },
  {
   "cell_type": "markdown",
   "id": "b50c0826-9957-4c68-a623-e924309a0904",
   "metadata": {},
   "source": [
    "##### Added a column 'price_per_sqft' and 'sqft_per_bedroom' that can help to detect outliers"
   ]
  },
  {
   "cell_type": "code",
   "execution_count": 40,
   "id": "5d57dad3-0dd5-4d7b-869f-bc3ec34dd1ba",
   "metadata": {
    "tags": []
   },
   "outputs": [
    {
     "data": {
      "text/html": [
       "<div>\n",
       "<style scoped>\n",
       "    .dataframe tbody tr th:only-of-type {\n",
       "        vertical-align: middle;\n",
       "    }\n",
       "\n",
       "    .dataframe tbody tr th {\n",
       "        vertical-align: top;\n",
       "    }\n",
       "\n",
       "    .dataframe thead th {\n",
       "        text-align: right;\n",
       "    }\n",
       "</style>\n",
       "<table border=\"1\" class=\"dataframe\">\n",
       "  <thead>\n",
       "    <tr style=\"text-align: right;\">\n",
       "      <th></th>\n",
       "      <th>Price</th>\n",
       "      <th>Bedrooms</th>\n",
       "      <th>SqFt</th>\n",
       "      <th>City</th>\n",
       "      <th>Type</th>\n",
       "      <th>Age</th>\n",
       "      <th>price_per_sqft</th>\n",
       "    </tr>\n",
       "  </thead>\n",
       "  <tbody>\n",
       "    <tr>\n",
       "      <th>0</th>\n",
       "      <td>873630</td>\n",
       "      <td>5</td>\n",
       "      <td>1010</td>\n",
       "      <td>Montreal</td>\n",
       "      <td>Condo</td>\n",
       "      <td>64</td>\n",
       "      <td>864.980198</td>\n",
       "    </tr>\n",
       "    <tr>\n",
       "      <th>1</th>\n",
       "      <td>377869</td>\n",
       "      <td>2</td>\n",
       "      <td>3591</td>\n",
       "      <td>Toronto</td>\n",
       "      <td>House</td>\n",
       "      <td>66</td>\n",
       "      <td>105.226678</td>\n",
       "    </tr>\n",
       "    <tr>\n",
       "      <th>2</th>\n",
       "      <td>128030</td>\n",
       "      <td>4</td>\n",
       "      <td>3823</td>\n",
       "      <td>Montreal</td>\n",
       "      <td>House</td>\n",
       "      <td>22</td>\n",
       "      <td>33.489406</td>\n",
       "    </tr>\n",
       "    <tr>\n",
       "      <th>3</th>\n",
       "      <td>117730</td>\n",
       "      <td>3</td>\n",
       "      <td>2848</td>\n",
       "      <td>Montreal</td>\n",
       "      <td>Apartment</td>\n",
       "      <td>49</td>\n",
       "      <td>41.337781</td>\n",
       "    </tr>\n",
       "    <tr>\n",
       "      <th>4</th>\n",
       "      <td>292476</td>\n",
       "      <td>4</td>\n",
       "      <td>3659</td>\n",
       "      <td>Vancouver</td>\n",
       "      <td>Condo</td>\n",
       "      <td>6</td>\n",
       "      <td>79.933315</td>\n",
       "    </tr>\n",
       "  </tbody>\n",
       "</table>\n",
       "</div>"
      ],
      "text/plain": [
       "    Price  Bedrooms  SqFt       City       Type  Age  price_per_sqft\n",
       "0  873630         5  1010   Montreal      Condo   64      864.980198\n",
       "1  377869         2  3591    Toronto      House   66      105.226678\n",
       "2  128030         4  3823   Montreal      House   22       33.489406\n",
       "3  117730         3  2848   Montreal  Apartment   49       41.337781\n",
       "4  292476         4  3659  Vancouver      Condo    6       79.933315"
      ]
     },
     "execution_count": 40,
     "metadata": {},
     "output_type": "execute_result"
    }
   ],
   "source": [
    "housing4 = housing3.copy()\n",
    "housing4[\"price_per_sqft\"] = housing4['Price']/housing4['SqFt']\n",
    "housing4.head()"
   ]
  },
  {
   "cell_type": "code",
   "execution_count": 41,
   "id": "c1c9a87b-b6a5-4f7b-8529-d3c170c22df8",
   "metadata": {
    "tags": []
   },
   "outputs": [
    {
     "data": {
      "text/html": [
       "<div>\n",
       "<style scoped>\n",
       "    .dataframe tbody tr th:only-of-type {\n",
       "        vertical-align: middle;\n",
       "    }\n",
       "\n",
       "    .dataframe tbody tr th {\n",
       "        vertical-align: top;\n",
       "    }\n",
       "\n",
       "    .dataframe thead th {\n",
       "        text-align: right;\n",
       "    }\n",
       "</style>\n",
       "<table border=\"1\" class=\"dataframe\">\n",
       "  <thead>\n",
       "    <tr style=\"text-align: right;\">\n",
       "      <th></th>\n",
       "      <th>Price</th>\n",
       "      <th>Bedrooms</th>\n",
       "      <th>SqFt</th>\n",
       "      <th>City</th>\n",
       "      <th>Type</th>\n",
       "      <th>Age</th>\n",
       "      <th>price_per_sqft</th>\n",
       "      <th>sqft_per_bedroom</th>\n",
       "    </tr>\n",
       "  </thead>\n",
       "  <tbody>\n",
       "    <tr>\n",
       "      <th>0</th>\n",
       "      <td>873630</td>\n",
       "      <td>5</td>\n",
       "      <td>1010</td>\n",
       "      <td>Montreal</td>\n",
       "      <td>Condo</td>\n",
       "      <td>64</td>\n",
       "      <td>864.980198</td>\n",
       "      <td>202.000000</td>\n",
       "    </tr>\n",
       "    <tr>\n",
       "      <th>1</th>\n",
       "      <td>377869</td>\n",
       "      <td>2</td>\n",
       "      <td>3591</td>\n",
       "      <td>Toronto</td>\n",
       "      <td>House</td>\n",
       "      <td>66</td>\n",
       "      <td>105.226678</td>\n",
       "      <td>1795.500000</td>\n",
       "    </tr>\n",
       "    <tr>\n",
       "      <th>2</th>\n",
       "      <td>128030</td>\n",
       "      <td>4</td>\n",
       "      <td>3823</td>\n",
       "      <td>Montreal</td>\n",
       "      <td>House</td>\n",
       "      <td>22</td>\n",
       "      <td>33.489406</td>\n",
       "      <td>955.750000</td>\n",
       "    </tr>\n",
       "    <tr>\n",
       "      <th>3</th>\n",
       "      <td>117730</td>\n",
       "      <td>3</td>\n",
       "      <td>2848</td>\n",
       "      <td>Montreal</td>\n",
       "      <td>Apartment</td>\n",
       "      <td>49</td>\n",
       "      <td>41.337781</td>\n",
       "      <td>949.333333</td>\n",
       "    </tr>\n",
       "    <tr>\n",
       "      <th>4</th>\n",
       "      <td>292476</td>\n",
       "      <td>4</td>\n",
       "      <td>3659</td>\n",
       "      <td>Vancouver</td>\n",
       "      <td>Condo</td>\n",
       "      <td>6</td>\n",
       "      <td>79.933315</td>\n",
       "      <td>914.750000</td>\n",
       "    </tr>\n",
       "  </tbody>\n",
       "</table>\n",
       "</div>"
      ],
      "text/plain": [
       "    Price  Bedrooms  SqFt       City       Type  Age  price_per_sqft  \\\n",
       "0  873630         5  1010   Montreal      Condo   64      864.980198   \n",
       "1  377869         2  3591    Toronto      House   66      105.226678   \n",
       "2  128030         4  3823   Montreal      House   22       33.489406   \n",
       "3  117730         3  2848   Montreal  Apartment   49       41.337781   \n",
       "4  292476         4  3659  Vancouver      Condo    6       79.933315   \n",
       "\n",
       "   sqft_per_bedroom  \n",
       "0        202.000000  \n",
       "1       1795.500000  \n",
       "2        955.750000  \n",
       "3        949.333333  \n",
       "4        914.750000  "
      ]
     },
     "execution_count": 41,
     "metadata": {},
     "output_type": "execute_result"
    }
   ],
   "source": [
    "housing4[\"sqft_per_bedroom\"] = housing4['SqFt']/housing4['Bedrooms']\n",
    "housing4.head()"
   ]
  },
  {
   "cell_type": "markdown",
   "id": "899e94f4-5414-49c4-a9f1-7deafa45fa73",
   "metadata": {},
   "source": [
    "#### Remove data points that have sqft_per_bedroom to be less than 300 or more than 2000"
   ]
  },
  {
   "cell_type": "code",
   "execution_count": 43,
   "id": "0104b1fa-7aea-492a-9fbb-4114031ec3f4",
   "metadata": {
    "tags": []
   },
   "outputs": [
    {
     "data": {
      "text/plain": [
       "Price               400\n",
       "Bedrooms            400\n",
       "SqFt                400\n",
       "City                400\n",
       "Type                400\n",
       "Age                 400\n",
       "price_per_sqft      400\n",
       "sqft_per_bedroom    400\n",
       "dtype: int64"
      ]
     },
     "execution_count": 43,
     "metadata": {},
     "output_type": "execute_result"
    }
   ],
   "source": [
    "housing4[housing4['sqft_per_bedroom'] < 300].count()"
   ]
  },
  {
   "cell_type": "code",
   "execution_count": 47,
   "id": "d08c02ab-ea26-4873-b1e0-090a0c4fd63f",
   "metadata": {
    "tags": []
   },
   "outputs": [
    {
     "data": {
      "text/plain": [
       "Price               617\n",
       "Bedrooms            617\n",
       "SqFt                617\n",
       "City                617\n",
       "Type                617\n",
       "Age                 617\n",
       "price_per_sqft      617\n",
       "sqft_per_bedroom    617\n",
       "dtype: int64"
      ]
     },
     "execution_count": 47,
     "metadata": {},
     "output_type": "execute_result"
    }
   ],
   "source": [
    "housing4[housing4['sqft_per_bedroom'] > 2000].count()"
   ]
  },
  {
   "cell_type": "code",
   "execution_count": 49,
   "id": "a44f58b4-6a47-4ef3-a9f8-8001354a3251",
   "metadata": {
    "tags": []
   },
   "outputs": [
    {
     "data": {
      "text/html": [
       "<div>\n",
       "<style scoped>\n",
       "    .dataframe tbody tr th:only-of-type {\n",
       "        vertical-align: middle;\n",
       "    }\n",
       "\n",
       "    .dataframe tbody tr th {\n",
       "        vertical-align: top;\n",
       "    }\n",
       "\n",
       "    .dataframe thead th {\n",
       "        text-align: right;\n",
       "    }\n",
       "</style>\n",
       "<table border=\"1\" class=\"dataframe\">\n",
       "  <thead>\n",
       "    <tr style=\"text-align: right;\">\n",
       "      <th></th>\n",
       "      <th>Price</th>\n",
       "      <th>Bedrooms</th>\n",
       "      <th>SqFt</th>\n",
       "      <th>City</th>\n",
       "      <th>Type</th>\n",
       "      <th>Age</th>\n",
       "      <th>price_per_sqft</th>\n",
       "      <th>sqft_per_bedroom</th>\n",
       "    </tr>\n",
       "  </thead>\n",
       "  <tbody>\n",
       "    <tr>\n",
       "      <th>0</th>\n",
       "      <td>873630</td>\n",
       "      <td>5</td>\n",
       "      <td>1010</td>\n",
       "      <td>Montreal</td>\n",
       "      <td>Condo</td>\n",
       "      <td>64</td>\n",
       "      <td>864.980198</td>\n",
       "      <td>202.000000</td>\n",
       "    </tr>\n",
       "    <tr>\n",
       "      <th>1</th>\n",
       "      <td>377869</td>\n",
       "      <td>2</td>\n",
       "      <td>3591</td>\n",
       "      <td>Toronto</td>\n",
       "      <td>House</td>\n",
       "      <td>66</td>\n",
       "      <td>105.226678</td>\n",
       "      <td>1795.500000</td>\n",
       "    </tr>\n",
       "    <tr>\n",
       "      <th>2</th>\n",
       "      <td>128030</td>\n",
       "      <td>4</td>\n",
       "      <td>3823</td>\n",
       "      <td>Montreal</td>\n",
       "      <td>House</td>\n",
       "      <td>22</td>\n",
       "      <td>33.489406</td>\n",
       "      <td>955.750000</td>\n",
       "    </tr>\n",
       "    <tr>\n",
       "      <th>3</th>\n",
       "      <td>117730</td>\n",
       "      <td>3</td>\n",
       "      <td>2848</td>\n",
       "      <td>Montreal</td>\n",
       "      <td>Apartment</td>\n",
       "      <td>49</td>\n",
       "      <td>41.337781</td>\n",
       "      <td>949.333333</td>\n",
       "    </tr>\n",
       "    <tr>\n",
       "      <th>4</th>\n",
       "      <td>292476</td>\n",
       "      <td>4</td>\n",
       "      <td>3659</td>\n",
       "      <td>Vancouver</td>\n",
       "      <td>Condo</td>\n",
       "      <td>6</td>\n",
       "      <td>79.933315</td>\n",
       "      <td>914.750000</td>\n",
       "    </tr>\n",
       "  </tbody>\n",
       "</table>\n",
       "</div>"
      ],
      "text/plain": [
       "    Price  Bedrooms  SqFt       City       Type  Age  price_per_sqft  \\\n",
       "0  873630         5  1010   Montreal      Condo   64      864.980198   \n",
       "1  377869         2  3591    Toronto      House   66      105.226678   \n",
       "2  128030         4  3823   Montreal      House   22       33.489406   \n",
       "3  117730         3  2848   Montreal  Apartment   49       41.337781   \n",
       "4  292476         4  3659  Vancouver      Condo    6       79.933315   \n",
       "\n",
       "   sqft_per_bedroom  \n",
       "0        202.000000  \n",
       "1       1795.500000  \n",
       "2        955.750000  \n",
       "3        949.333333  \n",
       "4        914.750000  "
      ]
     },
     "execution_count": 49,
     "metadata": {},
     "output_type": "execute_result"
    }
   ],
   "source": [
    "housing5 = housing4[~(housing4[\"sqft_per_bedroom\"] < 300)]\n",
    "housing5 = housing4[~(housing4[\"sqft_per_bedroom\"] > 2000)]\n",
    "housing5.head()"
   ]
  },
  {
   "cell_type": "code",
   "execution_count": 51,
   "id": "2e07927c-6069-40ea-88aa-376fa1f1a646",
   "metadata": {
    "tags": []
   },
   "outputs": [
    {
     "name": "stderr",
     "output_type": "stream",
     "text": [
      "C:\\Users\\Eric\\anaconda3\\Lib\\site-packages\\seaborn\\_oldcore.py:1119: FutureWarning: use_inf_as_na option is deprecated and will be removed in a future version. Convert inf values to NaN before operating instead.\n",
      "  with pd.option_context('mode.use_inf_as_na', True):\n"
     ]
    },
    {
     "data": {
      "text/plain": [
       "<seaborn.axisgrid.FacetGrid at 0x15f92bf3250>"
      ]
     },
     "execution_count": 51,
     "metadata": {},
     "output_type": "execute_result"
    },
    {
     "data": {
      "image/png": "[encoded data removed]",
      "text/plain": [
       "<Figure size 500x500 with 1 Axes>"
      ]
     },
     "metadata": {},
     "output_type": "display_data"
    }
   ],
   "source": [
    "sns.displot(housing5[\"sqft_per_bedroom\"], kind='hist', kde=True, bins=100, color='blue', \n",
    "             edgecolor='black')\n"
   ]
  },
  {
   "cell_type": "code",
   "execution_count": 53,
   "id": "e458d719-a28d-4ec4-96c8-809df4c804d3",
   "metadata": {
    "tags": []
   },
   "outputs": [
    {
     "name": "stderr",
     "output_type": "stream",
     "text": [
      "C:\\Users\\Eric\\anaconda3\\Lib\\site-packages\\seaborn\\_oldcore.py:1119: FutureWarning: use_inf_as_na option is deprecated and will be removed in a future version. Convert inf values to NaN before operating instead.\n",
      "  with pd.option_context('mode.use_inf_as_na', True):\n"
     ]
    },
    {
     "data": {
      "text/plain": [
       "<seaborn.axisgrid.FacetGrid at 0x15f95ae7590>"
      ]
     },
     "execution_count": 53,
     "metadata": {},
     "output_type": "execute_result"
    },
    {
     "data": {
      "image/png": "[encoded data removed]",
      "text/plain": [
       "<Figure size 500x500 with 1 Axes>"
      ]
     },
     "metadata": {},
     "output_type": "display_data"
    }
   ],
   "source": [
    "sns.displot(housing5[\"SqFt\"], kind='hist', kde=True, bins=100, color='blue', \n",
    "             edgecolor='black')"
   ]
  },
  {
   "cell_type": "code",
   "execution_count": 55,
   "id": "59d8bd56-bcaf-4a46-9cfb-5078135ac995",
   "metadata": {
    "tags": []
   },
   "outputs": [
    {
     "name": "stderr",
     "output_type": "stream",
     "text": [
      "C:\\Users\\Eric\\anaconda3\\Lib\\site-packages\\seaborn\\_oldcore.py:1119: FutureWarning: use_inf_as_na option is deprecated and will be removed in a future version. Convert inf values to NaN before operating instead.\n",
      "  with pd.option_context('mode.use_inf_as_na', True):\n"
     ]
    },
    {
     "data": {
      "text/plain": [
       "<seaborn.axisgrid.FacetGrid at 0x15f92ba2750>"
      ]
     },
     "execution_count": 55,
     "metadata": {},
     "output_type": "execute_result"
    },
    {
     "data": {
      "image/png": "[encoded data removed]",
      "text/plain": [
       "<Figure size 500x500 with 1 Axes>"
      ]
     },
     "metadata": {},
     "output_type": "display_data"
    }
   ],
   "source": [
    "sns.displot(housing5[\"price_per_sqft\"], kind='hist', kde=True, bins=100, color='blue', \n",
    "             edgecolor='black')\n"
   ]
  },
  {
   "cell_type": "code",
   "execution_count": 57,
   "id": "e7bba5bd-f28e-44aa-bc22-2249781a530d",
   "metadata": {
    "tags": []
   },
   "outputs": [],
   "source": [
    "def remove_pps_outliers(df):\n",
    "    df_out = pd.DataFrame()\n",
    "    for key, subdf in df.groupby('City'):\n",
    "        m = np.mean(subdf.price_per_sqft)\n",
    "        sd = np.std(subdf.price_per_sqft)\n",
    "        reduced_df = subdf[(subdf.price_per_sqft>(m-(0.6*sd))) & (subdf.price_per_sqft <= (m+(0.6*sd)))]\n",
    "        df_out = pd.concat([df_out, reduced_df], ignore_index = True)\n",
    "    return df_out"
   ]
  },
  {
   "cell_type": "code",
   "execution_count": 59,
   "id": "c2556b35-c7bb-4dce-96d3-7782b59450f6",
   "metadata": {
    "tags": []
   },
   "outputs": [
    {
     "name": "stderr",
     "output_type": "stream",
     "text": [
      "C:\\Users\\Eric\\anaconda3\\Lib\\site-packages\\seaborn\\_oldcore.py:1119: FutureWarning: use_inf_as_na option is deprecated and will be removed in a future version. Convert inf values to NaN before operating instead.\n",
      "  with pd.option_context('mode.use_inf_as_na', True):\n"
     ]
    },
    {
     "data": {
      "text/plain": [
       "<seaborn.axisgrid.FacetGrid at 0x15f95d57290>"
      ]
     },
     "execution_count": 59,
     "metadata": {},
     "output_type": "execute_result"
    },
    {
     "data": {
      "image/png": "[encoded data removed]",
      "text/plain": [
       "<Figure size 500x500 with 1 Axes>"
      ]
     },
     "metadata": {},
     "output_type": "display_data"
    }
   ],
   "source": [
    "housing6 = remove_pps_outliers(housing5)\n",
    "sns.displot(housing6[\"price_per_sqft\"], kind='hist', kde=True, bins=100, color='blue', \n",
    "             edgecolor='black')\n"
   ]
  },
  {
   "cell_type": "markdown",
   "id": "a0694374-0f85-4f68-bfbe-fdb2a97e7c93",
   "metadata": {},
   "source": [
    "##### Remove the extreme cases because we are building a generic house price, removing the all the datapoints that are 1 standard deviation away from mean for each city"
   ]
  },
  {
   "cell_type": "code",
   "execution_count": 62,
   "id": "e2bd63bf-5051-4778-8aff-c6b46753666b",
   "metadata": {
    "tags": []
   },
   "outputs": [
    {
     "data": {
      "text/html": [
       "<div>\n",
       "<style scoped>\n",
       "    .dataframe tbody tr th:only-of-type {\n",
       "        vertical-align: middle;\n",
       "    }\n",
       "\n",
       "    .dataframe tbody tr th {\n",
       "        vertical-align: top;\n",
       "    }\n",
       "\n",
       "    .dataframe thead th {\n",
       "        text-align: right;\n",
       "    }\n",
       "</style>\n",
       "<table border=\"1\" class=\"dataframe\">\n",
       "  <thead>\n",
       "    <tr style=\"text-align: right;\">\n",
       "      <th></th>\n",
       "      <th>Price</th>\n",
       "      <th>Bedrooms</th>\n",
       "      <th>SqFt</th>\n",
       "      <th>City</th>\n",
       "      <th>Type</th>\n",
       "      <th>Age</th>\n",
       "      <th>price_per_sqft</th>\n",
       "      <th>sqft_per_bedroom</th>\n",
       "    </tr>\n",
       "  </thead>\n",
       "  <tbody>\n",
       "    <tr>\n",
       "      <th>0</th>\n",
       "      <td>770737</td>\n",
       "      <td>4</td>\n",
       "      <td>2642</td>\n",
       "      <td>Calgary</td>\n",
       "      <td>House</td>\n",
       "      <td>35</td>\n",
       "      <td>291.724830</td>\n",
       "      <td>660.500000</td>\n",
       "    </tr>\n",
       "    <tr>\n",
       "      <th>1</th>\n",
       "      <td>753418</td>\n",
       "      <td>2</td>\n",
       "      <td>2359</td>\n",
       "      <td>Calgary</td>\n",
       "      <td>House</td>\n",
       "      <td>5</td>\n",
       "      <td>319.380246</td>\n",
       "      <td>1179.500000</td>\n",
       "    </tr>\n",
       "    <tr>\n",
       "      <th>2</th>\n",
       "      <td>654543</td>\n",
       "      <td>3</td>\n",
       "      <td>1691</td>\n",
       "      <td>Calgary</td>\n",
       "      <td>House</td>\n",
       "      <td>53</td>\n",
       "      <td>387.074512</td>\n",
       "      <td>563.666667</td>\n",
       "    </tr>\n",
       "    <tr>\n",
       "      <th>3</th>\n",
       "      <td>843357</td>\n",
       "      <td>4</td>\n",
       "      <td>3596</td>\n",
       "      <td>Calgary</td>\n",
       "      <td>House</td>\n",
       "      <td>4</td>\n",
       "      <td>234.526418</td>\n",
       "      <td>899.000000</td>\n",
       "    </tr>\n",
       "    <tr>\n",
       "      <th>4</th>\n",
       "      <td>888860</td>\n",
       "      <td>3</td>\n",
       "      <td>3890</td>\n",
       "      <td>Calgary</td>\n",
       "      <td>Apartment</td>\n",
       "      <td>26</td>\n",
       "      <td>228.498715</td>\n",
       "      <td>1296.666667</td>\n",
       "    </tr>\n",
       "  </tbody>\n",
       "</table>\n",
       "</div>"
      ],
      "text/plain": [
       "    Price  Bedrooms  SqFt     City       Type  Age  price_per_sqft  \\\n",
       "0  770737         4  2642  Calgary      House   35      291.724830   \n",
       "1  753418         2  2359  Calgary      House    5      319.380246   \n",
       "2  654543         3  1691  Calgary      House   53      387.074512   \n",
       "3  843357         4  3596  Calgary      House    4      234.526418   \n",
       "4  888860         3  3890  Calgary  Apartment   26      228.498715   \n",
       "\n",
       "   sqft_per_bedroom  \n",
       "0        660.500000  \n",
       "1       1179.500000  \n",
       "2        563.666667  \n",
       "3        899.000000  \n",
       "4       1296.666667  "
      ]
     },
     "execution_count": 62,
     "metadata": {},
     "output_type": "execute_result"
    }
   ],
   "source": [
    "housing6.head()"
   ]
  },
  {
   "cell_type": "code",
   "execution_count": 64,
   "id": "88d6111f-c7a0-410a-9f43-31399359123c",
   "metadata": {
    "tags": []
   },
   "outputs": [
    {
     "data": {
      "text/html": [
       "<div>\n",
       "<style scoped>\n",
       "    .dataframe tbody tr th:only-of-type {\n",
       "        vertical-align: middle;\n",
       "    }\n",
       "\n",
       "    .dataframe tbody tr th {\n",
       "        vertical-align: top;\n",
       "    }\n",
       "\n",
       "    .dataframe thead th {\n",
       "        text-align: right;\n",
       "    }\n",
       "</style>\n",
       "<table border=\"1\" class=\"dataframe\">\n",
       "  <thead>\n",
       "    <tr style=\"text-align: right;\">\n",
       "      <th></th>\n",
       "      <th>Price</th>\n",
       "      <th>Bedrooms</th>\n",
       "      <th>SqFt</th>\n",
       "      <th>City</th>\n",
       "      <th>Type</th>\n",
       "      <th>Age</th>\n",
       "    </tr>\n",
       "  </thead>\n",
       "  <tbody>\n",
       "    <tr>\n",
       "      <th>0</th>\n",
       "      <td>770737</td>\n",
       "      <td>4</td>\n",
       "      <td>2642</td>\n",
       "      <td>Calgary</td>\n",
       "      <td>House</td>\n",
       "      <td>35</td>\n",
       "    </tr>\n",
       "    <tr>\n",
       "      <th>1</th>\n",
       "      <td>753418</td>\n",
       "      <td>2</td>\n",
       "      <td>2359</td>\n",
       "      <td>Calgary</td>\n",
       "      <td>House</td>\n",
       "      <td>5</td>\n",
       "    </tr>\n",
       "    <tr>\n",
       "      <th>2</th>\n",
       "      <td>654543</td>\n",
       "      <td>3</td>\n",
       "      <td>1691</td>\n",
       "      <td>Calgary</td>\n",
       "      <td>House</td>\n",
       "      <td>53</td>\n",
       "    </tr>\n",
       "    <tr>\n",
       "      <th>3</th>\n",
       "      <td>843357</td>\n",
       "      <td>4</td>\n",
       "      <td>3596</td>\n",
       "      <td>Calgary</td>\n",
       "      <td>House</td>\n",
       "      <td>4</td>\n",
       "    </tr>\n",
       "    <tr>\n",
       "      <th>4</th>\n",
       "      <td>888860</td>\n",
       "      <td>3</td>\n",
       "      <td>3890</td>\n",
       "      <td>Calgary</td>\n",
       "      <td>Apartment</td>\n",
       "      <td>26</td>\n",
       "    </tr>\n",
       "  </tbody>\n",
       "</table>\n",
       "</div>"
      ],
      "text/plain": [
       "    Price  Bedrooms  SqFt     City       Type  Age\n",
       "0  770737         4  2642  Calgary      House   35\n",
       "1  753418         2  2359  Calgary      House    5\n",
       "2  654543         3  1691  Calgary      House   53\n",
       "3  843357         4  3596  Calgary      House    4\n",
       "4  888860         3  3890  Calgary  Apartment   26"
      ]
     },
     "execution_count": 64,
     "metadata": {},
     "output_type": "execute_result"
    }
   ],
   "source": [
    "housing_clean = housing6.drop(['price_per_sqft', 'sqft_per_bedroom'], axis = 'columns')\n",
    "housing_clean.head()"
   ]
  },
  {
   "cell_type": "markdown",
   "id": "f2655ce3-467f-40a2-b271-9e188285b34c",
   "metadata": {
    "tags": []
   },
   "source": [
    "##### Hadling of Categorical Columns"
   ]
  },
  {
   "cell_type": "code",
   "execution_count": 129,
   "id": "e806ac10-f43a-41db-93ea-48996343819a",
   "metadata": {
    "tags": []
   },
   "outputs": [
    {
     "data": {
      "text/html": [
       "<div>\n",
       "<style scoped>\n",
       "    .dataframe tbody tr th:only-of-type {\n",
       "        vertical-align: middle;\n",
       "    }\n",
       "\n",
       "    .dataframe tbody tr th {\n",
       "        vertical-align: top;\n",
       "    }\n",
       "\n",
       "    .dataframe thead th {\n",
       "        text-align: right;\n",
       "    }\n",
       "</style>\n",
       "<table border=\"1\" class=\"dataframe\">\n",
       "  <thead>\n",
       "    <tr style=\"text-align: right;\">\n",
       "      <th></th>\n",
       "      <th>Calgary</th>\n",
       "      <th>Montreal</th>\n",
       "      <th>Ottawa</th>\n",
       "      <th>Toronto</th>\n",
       "      <th>Vancouver</th>\n",
       "    </tr>\n",
       "  </thead>\n",
       "  <tbody>\n",
       "    <tr>\n",
       "      <th>0</th>\n",
       "      <td>1.0</td>\n",
       "      <td>0.0</td>\n",
       "      <td>0.0</td>\n",
       "      <td>0.0</td>\n",
       "      <td>0.0</td>\n",
       "    </tr>\n",
       "    <tr>\n",
       "      <th>1</th>\n",
       "      <td>1.0</td>\n",
       "      <td>0.0</td>\n",
       "      <td>0.0</td>\n",
       "      <td>0.0</td>\n",
       "      <td>0.0</td>\n",
       "    </tr>\n",
       "    <tr>\n",
       "      <th>2</th>\n",
       "      <td>1.0</td>\n",
       "      <td>0.0</td>\n",
       "      <td>0.0</td>\n",
       "      <td>0.0</td>\n",
       "      <td>0.0</td>\n",
       "    </tr>\n",
       "    <tr>\n",
       "      <th>3</th>\n",
       "      <td>1.0</td>\n",
       "      <td>0.0</td>\n",
       "      <td>0.0</td>\n",
       "      <td>0.0</td>\n",
       "      <td>0.0</td>\n",
       "    </tr>\n",
       "    <tr>\n",
       "      <th>4</th>\n",
       "      <td>1.0</td>\n",
       "      <td>0.0</td>\n",
       "      <td>0.0</td>\n",
       "      <td>0.0</td>\n",
       "      <td>0.0</td>\n",
       "    </tr>\n",
       "  </tbody>\n",
       "</table>\n",
       "</div>"
      ],
      "text/plain": [
       "   Calgary  Montreal  Ottawa  Toronto  Vancouver\n",
       "0      1.0       0.0     0.0      0.0        0.0\n",
       "1      1.0       0.0     0.0      0.0        0.0\n",
       "2      1.0       0.0     0.0      0.0        0.0\n",
       "3      1.0       0.0     0.0      0.0        0.0\n",
       "4      1.0       0.0     0.0      0.0        0.0"
      ]
     },
     "execution_count": 129,
     "metadata": {},
     "output_type": "execute_result"
    }
   ],
   "source": [
    "le1 = LabelEncoder()\n",
    "housing_city = le1.fit_transform(housing_clean.iloc[:,3])\n",
    "\n",
    "ohe1 = OneHotEncoder()\n",
    "housing_city = ohe1.fit_transform(housing_city.reshape(-1,1))\n",
    "housing_city = pd.DataFrame(housing_city.toarray(), columns=le1.classes_)\n",
    "housing_city.head()"
   ]
  },
  {
   "cell_type": "code",
   "execution_count": 137,
   "id": "94da0b3e-3a8b-42e4-b752-38255f90fed9",
   "metadata": {
    "tags": []
   },
   "outputs": [
    {
     "data": {
      "text/html": [
       "<div>\n",
       "<style scoped>\n",
       "    .dataframe tbody tr th:only-of-type {\n",
       "        vertical-align: middle;\n",
       "    }\n",
       "\n",
       "    .dataframe tbody tr th {\n",
       "        vertical-align: top;\n",
       "    }\n",
       "\n",
       "    .dataframe thead th {\n",
       "        text-align: right;\n",
       "    }\n",
       "</style>\n",
       "<table border=\"1\" class=\"dataframe\">\n",
       "  <thead>\n",
       "    <tr style=\"text-align: right;\">\n",
       "      <th></th>\n",
       "      <th>Apartment</th>\n",
       "      <th>Condo</th>\n",
       "      <th>House</th>\n",
       "    </tr>\n",
       "  </thead>\n",
       "  <tbody>\n",
       "    <tr>\n",
       "      <th>0</th>\n",
       "      <td>0.0</td>\n",
       "      <td>0.0</td>\n",
       "      <td>1.0</td>\n",
       "    </tr>\n",
       "    <tr>\n",
       "      <th>1</th>\n",
       "      <td>0.0</td>\n",
       "      <td>0.0</td>\n",
       "      <td>1.0</td>\n",
       "    </tr>\n",
       "    <tr>\n",
       "      <th>2</th>\n",
       "      <td>0.0</td>\n",
       "      <td>0.0</td>\n",
       "      <td>1.0</td>\n",
       "    </tr>\n",
       "    <tr>\n",
       "      <th>3</th>\n",
       "      <td>0.0</td>\n",
       "      <td>0.0</td>\n",
       "      <td>1.0</td>\n",
       "    </tr>\n",
       "    <tr>\n",
       "      <th>4</th>\n",
       "      <td>1.0</td>\n",
       "      <td>0.0</td>\n",
       "      <td>0.0</td>\n",
       "    </tr>\n",
       "  </tbody>\n",
       "</table>\n",
       "</div>"
      ],
      "text/plain": [
       "   Apartment  Condo  House\n",
       "0        0.0    0.0    1.0\n",
       "1        0.0    0.0    1.0\n",
       "2        0.0    0.0    1.0\n",
       "3        0.0    0.0    1.0\n",
       "4        1.0    0.0    0.0"
      ]
     },
     "execution_count": 137,
     "metadata": {},
     "output_type": "execute_result"
    }
   ],
   "source": [
    "le2 = LabelEncoder()\n",
    "housing_type = le2.fit_transform(housing_clean.iloc[:,4])\n",
    "\n",
    "ohe2 = OneHotEncoder()\n",
    "housing_type = ohe2.fit_transform(housing_type.reshape(-1,1))\n",
    "housing_type = pd.DataFrame(housing_type.toarray(), columns=le2.classes_)\n",
    "housing_type.head()"
   ]
  },
  {
   "cell_type": "code",
   "execution_count": 135,
   "id": "319435e6-de59-441b-89d5-4b3fe0a52fa5",
   "metadata": {
    "tags": []
   },
   "outputs": [],
   "source": [
    "housing_city= housing_city.drop('Vancouver',axis = 'columns')"
   ]
  },
  {
   "cell_type": "code",
   "execution_count": 139,
   "id": "4c1136fa-80c4-462a-a4db-2faad1fce442",
   "metadata": {
    "tags": []
   },
   "outputs": [],
   "source": [
    "housing_type =housing_type.drop('House',axis = 'columns')"
   ]
  },
  {
   "cell_type": "code",
   "execution_count": 141,
   "id": "5cee5779-64bc-438b-917c-bcd3c7a92c84",
   "metadata": {
    "tags": []
   },
   "outputs": [
    {
     "data": {
      "text/html": [
       "<div>\n",
       "<style scoped>\n",
       "    .dataframe tbody tr th:only-of-type {\n",
       "        vertical-align: middle;\n",
       "    }\n",
       "\n",
       "    .dataframe tbody tr th {\n",
       "        vertical-align: top;\n",
       "    }\n",
       "\n",
       "    .dataframe thead th {\n",
       "        text-align: right;\n",
       "    }\n",
       "</style>\n",
       "<table border=\"1\" class=\"dataframe\">\n",
       "  <thead>\n",
       "    <tr style=\"text-align: right;\">\n",
       "      <th></th>\n",
       "      <th>Price</th>\n",
       "      <th>Bedrooms</th>\n",
       "      <th>SqFt</th>\n",
       "      <th>City</th>\n",
       "      <th>Type</th>\n",
       "      <th>Age</th>\n",
       "      <th>Calgary</th>\n",
       "      <th>Montreal</th>\n",
       "      <th>Ottawa</th>\n",
       "      <th>Toronto</th>\n",
       "      <th>Apartment</th>\n",
       "      <th>Condo</th>\n",
       "    </tr>\n",
       "  </thead>\n",
       "  <tbody>\n",
       "    <tr>\n",
       "      <th>0</th>\n",
       "      <td>770737</td>\n",
       "      <td>4</td>\n",
       "      <td>2642</td>\n",
       "      <td>Calgary</td>\n",
       "      <td>House</td>\n",
       "      <td>35</td>\n",
       "      <td>1.0</td>\n",
       "      <td>0.0</td>\n",
       "      <td>0.0</td>\n",
       "      <td>0.0</td>\n",
       "      <td>0.0</td>\n",
       "      <td>0.0</td>\n",
       "    </tr>\n",
       "    <tr>\n",
       "      <th>1</th>\n",
       "      <td>753418</td>\n",
       "      <td>2</td>\n",
       "      <td>2359</td>\n",
       "      <td>Calgary</td>\n",
       "      <td>House</td>\n",
       "      <td>5</td>\n",
       "      <td>1.0</td>\n",
       "      <td>0.0</td>\n",
       "      <td>0.0</td>\n",
       "      <td>0.0</td>\n",
       "      <td>0.0</td>\n",
       "      <td>0.0</td>\n",
       "    </tr>\n",
       "    <tr>\n",
       "      <th>2</th>\n",
       "      <td>654543</td>\n",
       "      <td>3</td>\n",
       "      <td>1691</td>\n",
       "      <td>Calgary</td>\n",
       "      <td>House</td>\n",
       "      <td>53</td>\n",
       "      <td>1.0</td>\n",
       "      <td>0.0</td>\n",
       "      <td>0.0</td>\n",
       "      <td>0.0</td>\n",
       "      <td>0.0</td>\n",
       "      <td>0.0</td>\n",
       "    </tr>\n",
       "    <tr>\n",
       "      <th>3</th>\n",
       "      <td>843357</td>\n",
       "      <td>4</td>\n",
       "      <td>3596</td>\n",
       "      <td>Calgary</td>\n",
       "      <td>House</td>\n",
       "      <td>4</td>\n",
       "      <td>1.0</td>\n",
       "      <td>0.0</td>\n",
       "      <td>0.0</td>\n",
       "      <td>0.0</td>\n",
       "      <td>0.0</td>\n",
       "      <td>0.0</td>\n",
       "    </tr>\n",
       "    <tr>\n",
       "      <th>4</th>\n",
       "      <td>888860</td>\n",
       "      <td>3</td>\n",
       "      <td>3890</td>\n",
       "      <td>Calgary</td>\n",
       "      <td>Apartment</td>\n",
       "      <td>26</td>\n",
       "      <td>1.0</td>\n",
       "      <td>0.0</td>\n",
       "      <td>0.0</td>\n",
       "      <td>0.0</td>\n",
       "      <td>1.0</td>\n",
       "      <td>0.0</td>\n",
       "    </tr>\n",
       "  </tbody>\n",
       "</table>\n",
       "</div>"
      ],
      "text/plain": [
       "    Price  Bedrooms  SqFt     City       Type  Age  Calgary  Montreal  Ottawa  \\\n",
       "0  770737         4  2642  Calgary      House   35      1.0       0.0     0.0   \n",
       "1  753418         2  2359  Calgary      House    5      1.0       0.0     0.0   \n",
       "2  654543         3  1691  Calgary      House   53      1.0       0.0     0.0   \n",
       "3  843357         4  3596  Calgary      House    4      1.0       0.0     0.0   \n",
       "4  888860         3  3890  Calgary  Apartment   26      1.0       0.0     0.0   \n",
       "\n",
       "   Toronto  Apartment  Condo  \n",
       "0      0.0        0.0    0.0  \n",
       "1      0.0        0.0    0.0  \n",
       "2      0.0        0.0    0.0  \n",
       "3      0.0        0.0    0.0  \n",
       "4      0.0        1.0    0.0  "
      ]
     },
     "execution_count": 141,
     "metadata": {},
     "output_type": "execute_result"
    }
   ],
   "source": [
    "housing_model = pd.concat([housing_clean, housing_city, housing_type], axis= 'columns')\n",
    "housing_model.head()"
   ]
  },
  {
   "cell_type": "markdown",
   "id": "fa7f9dbf-f49c-4afe-ac65-947bee5079cd",
   "metadata": {},
   "source": [
    "##### Prepare data for regression model"
   ]
  },
  {
   "cell_type": "code",
   "execution_count": 143,
   "id": "b75aab34-15df-470e-95b2-575f2af26830",
   "metadata": {
    "tags": []
   },
   "outputs": [],
   "source": [
    "housing_model_clean = housing_model.drop(['City','Type'], axis = 'columns')"
   ]
  },
  {
   "cell_type": "code",
   "execution_count": 145,
   "id": "3f5a905e-bc70-4bdd-876b-908b26eab7a2",
   "metadata": {
    "tags": []
   },
   "outputs": [
    {
     "data": {
      "text/html": [
       "<div>\n",
       "<style scoped>\n",
       "    .dataframe tbody tr th:only-of-type {\n",
       "        vertical-align: middle;\n",
       "    }\n",
       "\n",
       "    .dataframe tbody tr th {\n",
       "        vertical-align: top;\n",
       "    }\n",
       "\n",
       "    .dataframe thead th {\n",
       "        text-align: right;\n",
       "    }\n",
       "</style>\n",
       "<table border=\"1\" class=\"dataframe\">\n",
       "  <thead>\n",
       "    <tr style=\"text-align: right;\">\n",
       "      <th></th>\n",
       "      <th>Price</th>\n",
       "      <th>Bedrooms</th>\n",
       "      <th>SqFt</th>\n",
       "      <th>Age</th>\n",
       "      <th>Calgary</th>\n",
       "      <th>Montreal</th>\n",
       "      <th>Ottawa</th>\n",
       "      <th>Toronto</th>\n",
       "      <th>Apartment</th>\n",
       "      <th>Condo</th>\n",
       "    </tr>\n",
       "  </thead>\n",
       "  <tbody>\n",
       "    <tr>\n",
       "      <th>0</th>\n",
       "      <td>770737</td>\n",
       "      <td>4</td>\n",
       "      <td>2642</td>\n",
       "      <td>35</td>\n",
       "      <td>1.0</td>\n",
       "      <td>0.0</td>\n",
       "      <td>0.0</td>\n",
       "      <td>0.0</td>\n",
       "      <td>0.0</td>\n",
       "      <td>0.0</td>\n",
       "    </tr>\n",
       "    <tr>\n",
       "      <th>1</th>\n",
       "      <td>753418</td>\n",
       "      <td>2</td>\n",
       "      <td>2359</td>\n",
       "      <td>5</td>\n",
       "      <td>1.0</td>\n",
       "      <td>0.0</td>\n",
       "      <td>0.0</td>\n",
       "      <td>0.0</td>\n",
       "      <td>0.0</td>\n",
       "      <td>0.0</td>\n",
       "    </tr>\n",
       "    <tr>\n",
       "      <th>2</th>\n",
       "      <td>654543</td>\n",
       "      <td>3</td>\n",
       "      <td>1691</td>\n",
       "      <td>53</td>\n",
       "      <td>1.0</td>\n",
       "      <td>0.0</td>\n",
       "      <td>0.0</td>\n",
       "      <td>0.0</td>\n",
       "      <td>0.0</td>\n",
       "      <td>0.0</td>\n",
       "    </tr>\n",
       "    <tr>\n",
       "      <th>3</th>\n",
       "      <td>843357</td>\n",
       "      <td>4</td>\n",
       "      <td>3596</td>\n",
       "      <td>4</td>\n",
       "      <td>1.0</td>\n",
       "      <td>0.0</td>\n",
       "      <td>0.0</td>\n",
       "      <td>0.0</td>\n",
       "      <td>0.0</td>\n",
       "      <td>0.0</td>\n",
       "    </tr>\n",
       "    <tr>\n",
       "      <th>4</th>\n",
       "      <td>888860</td>\n",
       "      <td>3</td>\n",
       "      <td>3890</td>\n",
       "      <td>26</td>\n",
       "      <td>1.0</td>\n",
       "      <td>0.0</td>\n",
       "      <td>0.0</td>\n",
       "      <td>0.0</td>\n",
       "      <td>1.0</td>\n",
       "      <td>0.0</td>\n",
       "    </tr>\n",
       "  </tbody>\n",
       "</table>\n",
       "</div>"
      ],
      "text/plain": [
       "    Price  Bedrooms  SqFt  Age  Calgary  Montreal  Ottawa  Toronto  Apartment  \\\n",
       "0  770737         4  2642   35      1.0       0.0     0.0      0.0        0.0   \n",
       "1  753418         2  2359    5      1.0       0.0     0.0      0.0        0.0   \n",
       "2  654543         3  1691   53      1.0       0.0     0.0      0.0        0.0   \n",
       "3  843357         4  3596    4      1.0       0.0     0.0      0.0        0.0   \n",
       "4  888860         3  3890   26      1.0       0.0     0.0      0.0        1.0   \n",
       "\n",
       "   Condo  \n",
       "0    0.0  \n",
       "1    0.0  \n",
       "2    0.0  \n",
       "3    0.0  \n",
       "4    0.0  "
      ]
     },
     "execution_count": 145,
     "metadata": {},
     "output_type": "execute_result"
    }
   ],
   "source": [
    "housing_model_clean.head()"
   ]
  },
  {
   "cell_type": "code",
   "execution_count": 147,
   "id": "8cb354bc-af96-40e2-9278-c87589226d9c",
   "metadata": {
    "tags": []
   },
   "outputs": [
    {
     "data": {
      "text/html": [
       "<div>\n",
       "<style scoped>\n",
       "    .dataframe tbody tr th:only-of-type {\n",
       "        vertical-align: middle;\n",
       "    }\n",
       "\n",
       "    .dataframe tbody tr th {\n",
       "        vertical-align: top;\n",
       "    }\n",
       "\n",
       "    .dataframe thead th {\n",
       "        text-align: right;\n",
       "    }\n",
       "</style>\n",
       "<table border=\"1\" class=\"dataframe\">\n",
       "  <thead>\n",
       "    <tr style=\"text-align: right;\">\n",
       "      <th></th>\n",
       "      <th>Bedrooms</th>\n",
       "      <th>SqFt</th>\n",
       "      <th>Age</th>\n",
       "      <th>Calgary</th>\n",
       "      <th>Montreal</th>\n",
       "      <th>Ottawa</th>\n",
       "      <th>Toronto</th>\n",
       "      <th>Apartment</th>\n",
       "      <th>Condo</th>\n",
       "    </tr>\n",
       "  </thead>\n",
       "  <tbody>\n",
       "    <tr>\n",
       "      <th>0</th>\n",
       "      <td>4</td>\n",
       "      <td>2642</td>\n",
       "      <td>35</td>\n",
       "      <td>1.0</td>\n",
       "      <td>0.0</td>\n",
       "      <td>0.0</td>\n",
       "      <td>0.0</td>\n",
       "      <td>0.0</td>\n",
       "      <td>0.0</td>\n",
       "    </tr>\n",
       "    <tr>\n",
       "      <th>1</th>\n",
       "      <td>2</td>\n",
       "      <td>2359</td>\n",
       "      <td>5</td>\n",
       "      <td>1.0</td>\n",
       "      <td>0.0</td>\n",
       "      <td>0.0</td>\n",
       "      <td>0.0</td>\n",
       "      <td>0.0</td>\n",
       "      <td>0.0</td>\n",
       "    </tr>\n",
       "    <tr>\n",
       "      <th>2</th>\n",
       "      <td>3</td>\n",
       "      <td>1691</td>\n",
       "      <td>53</td>\n",
       "      <td>1.0</td>\n",
       "      <td>0.0</td>\n",
       "      <td>0.0</td>\n",
       "      <td>0.0</td>\n",
       "      <td>0.0</td>\n",
       "      <td>0.0</td>\n",
       "    </tr>\n",
       "    <tr>\n",
       "      <th>3</th>\n",
       "      <td>4</td>\n",
       "      <td>3596</td>\n",
       "      <td>4</td>\n",
       "      <td>1.0</td>\n",
       "      <td>0.0</td>\n",
       "      <td>0.0</td>\n",
       "      <td>0.0</td>\n",
       "      <td>0.0</td>\n",
       "      <td>0.0</td>\n",
       "    </tr>\n",
       "    <tr>\n",
       "      <th>4</th>\n",
       "      <td>3</td>\n",
       "      <td>3890</td>\n",
       "      <td>26</td>\n",
       "      <td>1.0</td>\n",
       "      <td>0.0</td>\n",
       "      <td>0.0</td>\n",
       "      <td>0.0</td>\n",
       "      <td>1.0</td>\n",
       "      <td>0.0</td>\n",
       "    </tr>\n",
       "  </tbody>\n",
       "</table>\n",
       "</div>"
      ],
      "text/plain": [
       "   Bedrooms  SqFt  Age  Calgary  Montreal  Ottawa  Toronto  Apartment  Condo\n",
       "0         4  2642   35      1.0       0.0     0.0      0.0        0.0    0.0\n",
       "1         2  2359    5      1.0       0.0     0.0      0.0        0.0    0.0\n",
       "2         3  1691   53      1.0       0.0     0.0      0.0        0.0    0.0\n",
       "3         4  3596    4      1.0       0.0     0.0      0.0        0.0    0.0\n",
       "4         3  3890   26      1.0       0.0     0.0      0.0        1.0    0.0"
      ]
     },
     "execution_count": 147,
     "metadata": {},
     "output_type": "execute_result"
    }
   ],
   "source": [
    "X = housing_model_clean.drop('Price', axis = 'columns')\n",
    "X.head()"
   ]
  },
  {
   "cell_type": "code",
   "execution_count": 149,
   "id": "c59d1da2-b16c-4370-ae1f-786a5428cfeb",
   "metadata": {
    "tags": []
   },
   "outputs": [
    {
     "data": {
      "text/plain": [
       "0    770737\n",
       "1    753418\n",
       "2    654543\n",
       "3    843357\n",
       "4    888860\n",
       "Name: Price, dtype: int64"
      ]
     },
     "execution_count": 149,
     "metadata": {},
     "output_type": "execute_result"
    }
   ],
   "source": [
    "y = housing_model_clean.Price\n",
    "y.head()"
   ]
  },
  {
   "cell_type": "markdown",
   "id": "76964c26-0a8f-4548-a77a-5ec807fae84f",
   "metadata": {},
   "source": [
    "### Building the model"
   ]
  },
  {
   "cell_type": "code",
   "execution_count": 156,
   "id": "933747bb-7ae3-4de4-b805-af261f86a4b1",
   "metadata": {
    "tags": []
   },
   "outputs": [],
   "source": [
    "X_train, X_test, y_train, y_test = train_test_split(X,y,test_size = 0.2, random_state =12)"
   ]
  },
  {
   "cell_type": "markdown",
   "id": "94cd13ab-db86-4711-a065-e3d234d4a2cf",
   "metadata": {},
   "source": [
    "##### Comparing the model"
   ]
  },
  {
   "cell_type": "code",
   "execution_count": 166,
   "id": "9d9e220d-40bc-42ef-949c-8bb19529c0ff",
   "metadata": {
    "tags": []
   },
   "outputs": [],
   "source": [
    "from sklearn.linear_model import LinearRegression, Lasso, Ridge\n",
    "from sklearn.ensemble import RandomForestRegressor\n",
    "from sklearn.ensemble import AdaBoostRegressor\n",
    "from sklearn.ensemble import GradientBoostingRegressor\n",
    "from xgboost import XGBRegressor\n",
    "from sklearn.model_selection import GridSearchCV, ShuffleSplit\n",
    "from sklearn.tree import DecisionTreeRegressor\n",
    "from sklearn.metrics import r2_score, mean_squared_error"
   ]
  },
  {
   "cell_type": "code",
   "execution_count": 188,
   "id": "7d16d2b8-d4fb-4aa9-a348-c33db557a90b",
   "metadata": {
    "tags": []
   },
   "outputs": [],
   "source": [
    "def find_best_model_using_gridsearchcv(X, y):\n",
    "    algos = {\n",
    "        'linear_regression' : {\n",
    "            'model': LinearRegression(),\n",
    "            'params': {\n",
    "                'normalize': [True, False]\n",
    "            }\n",
    "        },\n",
    "        'lasso': {\n",
    "            'model': Lasso(),\n",
    "            'params': {\n",
    "                'alpha': [0.1, 0.3, 0.5, 0.7, 0.9],\n",
    "                'selection': ['random', 'cyclic']\n",
    "            }\n",
    "        },\n",
    "        'ridge': {\n",
    "            'model': Ridge(),\n",
    "            'params': {\n",
    "                'alpha': [0.1, 0.3, 0.5, 0.7, 0.9]\n",
    "            }\n",
    "        },\n",
    "        'random_forest': {\n",
    "            'model': RandomForestRegressor(),\n",
    "            'params': {\n",
    "                'n_estimators': [10, 20, 500], 'max_depth': [2, 4, 6, 8], \n",
    "            }\n",
    "        },\n",
    "        'xgboost': {\n",
    "            'model': XGBRegressor(),\n",
    "            'params': {\n",
    "                'n_estimators': [100, 200, 300], \n",
    "            }\n",
    "        }\n",
    "\n",
    "    }\n",
    "    scores = []\n",
    "    cv = ShuffleSplit(n_splits=5, test_size=0.2, random_state=0)\n",
    "    for algo_name, config in algos.items():\n",
    "        gs =  GridSearchCV(config['model'], config['params'], cv=cv, return_train_score=False)\n",
    "        gs.fit(X,y)\n",
    "        scores.append({\n",
    "            'model': algo_name,\n",
    "            'best_score': gs.best_score_,\n",
    "            'best_params': gs.best_params_\n",
    "        })\n",
    "\n",
    "    return pd.DataFrame(scores,columns=['model','best_score','best_params'])\n",
    "\n",
    "# find_best_model_using_gridsearchcv(X, y)\n",
    "## didnt work :("
   ]
  },
  {
   "cell_type": "code",
   "execution_count": 190,
   "id": "f645291e-e078-43ed-9e24-c56bfe86d75a",
   "metadata": {
    "tags": []
   },
   "outputs": [],
   "source": [
    "from sklearn.model_selection import ShuffleSplit\n",
    "from sklearn.model_selection import cross_val_score\n",
    "\n",
    "cv = ShuffleSplit(n_splits = 5, test_size = 0.2, random_state = 0)\n"
   ]
  },
  {
   "cell_type": "code",
   "execution_count": 192,
   "id": "2a7a19f3-9f85-44df-a326-b3290b0c192d",
   "metadata": {
    "tags": []
   },
   "outputs": [
    {
     "data": {
      "text/plain": [
       "array([0.51443156, 0.49329232, 0.55955482, 0.48755646, 0.51497483])"
      ]
     },
     "execution_count": 192,
     "metadata": {},
     "output_type": "execute_result"
    }
   ],
   "source": [
    "lr_clf = LinearRegression()\n",
    "lr_clf.fit(X_train,y_train)\n",
    "lr_clf.score(X_test, y_test)\n",
    "cross_val_score(LinearRegression(), X, y, cv =cv)"
   ]
  },
  {
   "cell_type": "code",
   "execution_count": 194,
   "id": "d9db9f56-1c2a-462e-a733-a20dd4c9cbbe",
   "metadata": {
    "tags": []
   },
   "outputs": [
    {
     "data": {
      "text/plain": [
       "array([0.51443209, 0.49329747, 0.55953345, 0.48760743, 0.51501522])"
      ]
     },
     "execution_count": 194,
     "metadata": {},
     "output_type": "execute_result"
    }
   ],
   "source": [
    "ridge_reg = Ridge(alpha = 0.1)\n",
    "ridge_reg.fit(X_train, y_train)\n",
    "ridge_reg.score(X_test, y_test)\n",
    "cross_val_score(Ridge(), X, y, cv =cv)"
   ]
  },
  {
   "cell_type": "code",
   "execution_count": 196,
   "id": "6f0abe7c-0d16-4d69-91ae-a5d625523f6e",
   "metadata": {
    "tags": []
   },
   "outputs": [
    {
     "data": {
      "text/plain": [
       "array([0.51443146, 0.49329227, 0.55955359, 0.4875603 , 0.51497889])"
      ]
     },
     "execution_count": 196,
     "metadata": {},
     "output_type": "execute_result"
    }
   ],
   "source": [
    "lasso_reg = Lasso(alpha = 0.1)\n",
    "lasso_reg.fit(X_train, y_train)\n",
    "lasso_reg.score(X_test, y_test)\n",
    "cross_val_score(Lasso(), X, y, cv =cv)"
   ]
  },
  {
   "cell_type": "code",
   "execution_count": 198,
   "id": "e8a33a8b-3916-4fb9-9490-9da088ce5323",
   "metadata": {
    "tags": []
   },
   "outputs": [
    {
     "data": {
      "text/plain": [
       "array([ 0.09243037, -0.05006554,  0.1997185 ,  0.03827139, -0.05408281])"
      ]
     },
     "execution_count": 198,
     "metadata": {},
     "output_type": "execute_result"
    }
   ],
   "source": [
    "dt_reg = DecisionTreeRegressor()\n",
    "dt_reg.fit(X_train, y_train)\n",
    "dt_reg.score(X_test, y_test)\n",
    "cross_val_score(DecisionTreeRegressor(), X, y, cv =cv)"
   ]
  },
  {
   "cell_type": "code",
   "execution_count": 201,
   "id": "09b886a8-5296-43b2-b977-ee56cc404c49",
   "metadata": {
    "tags": []
   },
   "outputs": [
    {
     "data": {
      "text/plain": [
       "array([0.51705372, 0.43304002, 0.56327572, 0.4475094 , 0.48375502])"
      ]
     },
     "execution_count": 201,
     "metadata": {},
     "output_type": "execute_result"
    }
   ],
   "source": [
    "rf_reg = RandomForestRegressor()\n",
    "rf_reg.fit(X_train, y_train)\n",
    "rf_reg.score(X_test, y_test)\n",
    "cross_val_score(RandomForestRegressor(), X, y, cv =cv)"
   ]
  },
  {
   "cell_type": "code",
   "execution_count": 203,
   "id": "b94a6b6e-2967-4984-973a-75170131a9d6",
   "metadata": {
    "tags": []
   },
   "outputs": [
    {
     "data": {
      "text/plain": [
       "array([0.53745584, 0.50648624, 0.58699111, 0.51166775, 0.54194401])"
      ]
     },
     "execution_count": 203,
     "metadata": {},
     "output_type": "execute_result"
    }
   ],
   "source": [
    "ab_reg = AdaBoostRegressor(loss = \"linear\")\n",
    "ab_reg.fit(X_train, y_train)\n",
    "ab_reg.score(X_test, y_test)\n",
    "cross_val_score(AdaBoostRegressor(), X, y, cv =cv)"
   ]
  },
  {
   "cell_type": "code",
   "execution_count": 205,
   "id": "56722d25-9711-4214-bdf0-a15cde87bc51",
   "metadata": {
    "tags": []
   },
   "outputs": [
    {
     "data": {
      "text/plain": [
       "array([0.53051388, 0.4942642 , 0.59422708, 0.5020807 , 0.5361975 ])"
      ]
     },
     "execution_count": 205,
     "metadata": {},
     "output_type": "execute_result"
    }
   ],
   "source": [
    "gb_reg = GradientBoostingRegressor(max_depth = 7, max_features = 4, n_estimators = 35)\n",
    "gb_reg.fit(X_train, y_train)\n",
    "gb_reg.score(X_test, y_test)\n",
    "cross_val_score(GradientBoostingRegressor(), X, y, cv =cv)"
   ]
  },
  {
   "cell_type": "code",
   "execution_count": 207,
   "id": "e8b8126e-925a-47ea-bf6e-482b73636484",
   "metadata": {
    "tags": []
   },
   "outputs": [
    {
     "data": {
      "text/plain": [
       "array([0.42419089, 0.30041661, 0.48878527, 0.38892375, 0.38405952])"
      ]
     },
     "execution_count": 207,
     "metadata": {},
     "output_type": "execute_result"
    }
   ],
   "source": [
    "xgb_reg = XGBRegressor()\n",
    "xgb_reg.fit(X_train, y_train)\n",
    "xgb_reg.score(X_test, y_test)\n",
    "cross_val_score(XGBRegressor(), X, y, cv =cv)"
   ]
  },
  {
   "cell_type": "code",
   "execution_count": 216,
   "id": "7436dac8-b2a7-47e6-8e8e-32a6db028787",
   "metadata": {
    "tags": []
   },
   "outputs": [
    {
     "data": {
      "text/plain": [
       "Index(['Bedrooms', 'SqFt', 'Age', 'Calgary', 'Montreal', 'Ottawa', 'Toronto',\n",
       "       'Apartment', 'Condo'],\n",
       "      dtype='object')"
      ]
     },
     "execution_count": 216,
     "metadata": {},
     "output_type": "execute_result"
    }
   ],
   "source": [
    "X.columns"
   ]
  },
  {
   "cell_type": "code",
   "execution_count": 218,
   "id": "dee60fb1-65a1-42fa-bb12-9d679dd77378",
   "metadata": {
    "tags": []
   },
   "outputs": [
    {
     "data": {
      "text/plain": [
       "3"
      ]
     },
     "execution_count": 218,
     "metadata": {},
     "output_type": "execute_result"
    }
   ],
   "source": [
    "np.where(X.columns == 'Calgary')[0][0]"
   ]
  },
  {
   "cell_type": "code",
   "execution_count": 238,
   "id": "33cca6ec-5d38-42e3-a646-d69e80df4c0c",
   "metadata": {
    "tags": []
   },
   "outputs": [],
   "source": [
    "def predict_price(City,Bedroom, Type, Age,sqft):\n",
    "    loc_index = np.where(X.columns == City)[0][0]\n",
    "    loc_index2 = np.where(X.columns == Type)[0][0]\n",
    "    \n",
    "    x = np.zeros(len(X.columns))\n",
    "    x[0] =Bedroom\n",
    "    x[1] = sqft\n",
    "    x[2] = Age\n",
    "    if loc_index >= 0:\n",
    "        x[loc_index] =1\n",
    "    if loc_index2 >= 0:\n",
    "        x[loc_index2] =1   \n",
    "        \n",
    "    return lr_clf.predict([x])[0]\n",
    "    \n",
    "    "
   ]
  },
  {
   "cell_type": "code",
   "execution_count": 250,
   "id": "66e12e8d-411b-4791-8d16-93a760faf9ca",
   "metadata": {
    "tags": []
   },
   "outputs": [
    {
     "name": "stderr",
     "output_type": "stream",
     "text": [
      "C:\\Users\\Eric\\anaconda3\\Lib\\site-packages\\sklearn\\base.py:439: UserWarning: X does not have valid feature names, but LinearRegression was fitted with feature names\n",
      "  warnings.warn(\n"
     ]
    },
    {
     "data": {
      "text/plain": [
       "247412.64535279074"
      ]
     },
     "execution_count": 250,
     "metadata": {},
     "output_type": "execute_result"
    }
   ],
   "source": [
    "predict_price('Montreal', 2, 'Apartment',2,200)"
   ]
  },
  {
   "cell_type": "code",
   "execution_count": 252,
   "id": "a23bff23-d51f-487c-8c67-adfdab6e2696",
   "metadata": {
    "tags": []
   },
   "outputs": [],
   "source": [
    "import pickle\n",
    "with open('Canada_home_prices_model.pickle', 'wb') as f:\n",
    "    pickle.dump(lr_clf,f)"
   ]
  },
  {
   "cell_type": "code",
   "execution_count": 254,
   "id": "5f7e7fce-9824-4964-ac72-82571e9aee43",
   "metadata": {
    "tags": []
   },
   "outputs": [],
   "source": [
    "import json\n",
    "columns = {\n",
    "    'data_columns' : [col.lower() for col in X.columns]\n",
    "}\n",
    "with open('columns.json', 'w') as f:\n",
    "    f.write(json.dumps(columns))"
   ]
  },
  {
   "cell_type": "code",
   "execution_count": null,
   "id": "b43bb83b-681d-48b6-bb10-709ec9017b5a",
   "metadata": {},
   "outputs": [],
   "source": []
  }
 ],
 "metadata": {
  "kernelspec": {
   "display_name": "Python 3 (ipykernel)",
   "language": "python",
   "name": "python3"
  },
  "language_info": {
   "codemirror_mode": {
    "name": "ipython",
    "version": 3
   },
   "file_extension": ".py",
   "mimetype": "text/x-python",
   "name": "python",
   "nbconvert_exporter": "python",
   "pygments_lexer": "ipython3",
   "version": "3.11.7"
  }
 },
 "nbformat": 4,
 "nbformat_minor": 5
}
